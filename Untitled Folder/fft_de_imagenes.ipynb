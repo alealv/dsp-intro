{
 "cells": [
  {
   "cell_type": "code",
   "execution_count": 1,
   "metadata": {},
   "outputs": [],
   "source": [
    "from scipy import fftpack\n",
    "import numpy as np\n",
    "import pylab as py\n",
    "import matplotlib.pyplot as plt\n",
    "\n",
    "%matplotlib inline"
   ]
  },
  {
   "cell_type": "code",
   "execution_count": 4,
   "metadata": {},
   "outputs": [
    {
     "data": {
      "text/plain": [
       "<matplotlib.image.AxesImage at 0x7f8ae4742cf8>"
      ]
     },
     "execution_count": 4,
     "metadata": {},
     "output_type": "execute_result"
    },
    {
     "data": {
      "image/png": "[encoded data removed]",
      "text/plain": [
       "<matplotlib.figure.Figure at 0x7f8af0964550>"
      ]
     },
     "metadata": {},
     "output_type": "display_data"
    }
   ],
   "source": [
    "#image = pyfits.getdata('myimage.fits')\n",
    "\n",
    "width=100\n",
    "height=100\n",
    "\n",
    "center_w = int(width/2)\n",
    "center_h = int(width/2)\n",
    "\n",
    "square_size = 10\n",
    "image = np.zeros([height, width])\n",
    "image[center_h - int(square_size/2): center_h + int(square_size/2), center_w - int(square_size/2) : center_w + int(square_size/2)] = 1\n",
    "\n",
    "\n",
    "# Take the fourier transform of the image.\n",
    "F1 = fftpack.fft2(image)\n",
    " \n",
    "# Now shift the quadrants around so that low spatial frequencies are in\n",
    "# the center of the 2D fourier transformed image.\n",
    "F2 = fftpack.fftshift( F1 )\n",
    " \n",
    "# Calculate a 2D power spectrum\n",
    "psd2D = np.abs( F2 )\n",
    " \n",
    "# Calculate the azimuthally averaged 1D power spectrum\n",
    "#psd1D = radialProfile.azimuthalAverage(psd2D)\n",
    " \n",
    "# Now plot up both\n",
    "plt.figure(figsize=(20,5))\n",
    "plt.subplot(1,2,1)\n",
    "plt.imshow( image, cmap=\"gray\")\n",
    "\n",
    "plt.subplot(1,2,2)\n",
    "plt.imshow( psd2D, cmap=\"gray\")\n",
    " "
   ]
  },
  {
   "cell_type": "code",
   "execution_count": null,
   "metadata": {
    "collapsed": true
   },
   "outputs": [],
   "source": [
    "#image = pyfits.getdata('myimage.fits')\n",
    "\n",
    "width=100\n",
    "height=100\n",
    "\n",
    "center_w = int(width/2)\n",
    "center_h = int(width/2)\n",
    "\n",
    "square_size = 10\n",
    "image = np.zeros([height, width])\n",
    "image[center_h - int(square_size/2): center_h + int(square_size/2), center_w - int(square_size/2) : center_w + int(square_size/2)] = 1\n",
    "\n",
    "\n",
    "# Take the fourier transform of the image.\n",
    "F1 = fftpack.fft2(image)\n",
    " \n",
    "# Now shift the quadrants around so that low spatial frequencies are in\n",
    "# the center of the 2D fourier transformed image.\n",
    "F2 = fftpack.fftshift( F1 )\n",
    " \n",
    "# Calculate a 2D power spectrum\n",
    "psd2D = np.abs( F2 )\n",
    " \n",
    "# Calculate the azimuthally averaged 1D power spectrum\n",
    "#psd1D = radialProfile.azimuthalAverage(psd2D)\n",
    " \n",
    "# Now plot up both\n",
    "plt.figure(figsize=(20,5))\n",
    "plt.subplot(1,2,1)\n",
    "plt.imshow( image, cmap=\"gray\")\n",
    "\n",
    "plt.subplot(1,2,2)\n",
    "plt.imshow( psd2D, cmap=\"gray\")\n",
    " "
   ]
  }
 ],
 "metadata": {
  "kernelspec": {
   "display_name": "Python [default]",
   "language": "python",
   "name": "python3"
  },
  "language_info": {
   "codemirror_mode": {
    "name": "ipython",
    "version": 3
   },
   "file_extension": ".py",
   "mimetype": "text/x-python",
   "name": "python",
   "nbconvert_exporter": "python",
   "pygments_lexer": "ipython3",
   "version": "3.6.3"
  }
 },
 "nbformat": 4,
 "nbformat_minor": 2
}
